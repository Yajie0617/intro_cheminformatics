{
 "cells": [
  {
   "cell_type": "markdown",
   "metadata": {},
   "source": [
    "# Intro to QSAR Modeling\n",
    "\n",
    "Machine Learning has been applied to a variety of problems such as image and voice recognition and more recently into chemistry.   The idea is that computers can \"learn\" certain features or properties of chemicals and use them to predict some sort of biological activity.  There are dozens of different Machine Learning algorithms.\n",
    "\n",
    "Let's walk through a typical workflow.  First we need to load are molecules.  "
   ]
  },
  {
   "cell_type": "code",
   "execution_count": 1,
   "metadata": {},
   "outputs": [
    {
     "name": "stdout",
     "output_type": "stream",
     "text": [
      "Rdkit created 745 mols\n"
     ]
    }
   ],
   "source": [
    "from rdkit import Chem \n",
    "import pandas as pd\n",
    "\n",
    "fhmds = pd.read_csv('data/FHMDB.csv')\n",
    "\n",
    "fhmds.index = fhmds.NAME\n",
    "\n",
    "mols = []\n",
    "names = []\n",
    "for name, smiles in fhmds.SMILES.iteritems():\n",
    "    if Chem.MolFromSmiles(smiles):\n",
    "        mols.append(Chem.MolFromSmiles(smiles))\n",
    "        names.append(name)\n",
    "\n",
    "print(\"Rdkit created {} mols\".format(len(mols)))"
   ]
  },
  {
   "cell_type": "markdown",
   "metadata": {},
   "source": [
    "In calculating chemical similarity, we used chemical fingerprints: binary representations of molecules denoting the presence or absence of chemical fragments.  \n",
    "\n",
    "Another widely use way to represent molecules is known as molecular descriptors.  Just as there were several different versions of fingerprints, as is the same for molecular descriptors.  Many different software packages exist to create them.  They can range from just a few to a few thousand.  For this notebook, we'll use the molecular descriptors provided within the rdkit package.  "
   ]
  },
  {
   "cell_type": "code",
   "execution_count": 2,
   "metadata": {},
   "outputs": [
    {
     "data": {
      "text/html": [
       "<div>\n",
       "<style>\n",
       "    .dataframe thead tr:only-child th {\n",
       "        text-align: right;\n",
       "    }\n",
       "\n",
       "    .dataframe thead th {\n",
       "        text-align: left;\n",
       "    }\n",
       "\n",
       "    .dataframe tbody tr th {\n",
       "        vertical-align: top;\n",
       "    }\n",
       "</style>\n",
       "<table border=\"1\" class=\"dataframe\">\n",
       "  <thead>\n",
       "    <tr style=\"text-align: right;\">\n",
       "      <th></th>\n",
       "      <th>MaxEStateIndex</th>\n",
       "      <th>MinEStateIndex</th>\n",
       "      <th>MaxAbsEStateIndex</th>\n",
       "      <th>MinAbsEStateIndex</th>\n",
       "      <th>qed</th>\n",
       "      <th>MolWt</th>\n",
       "      <th>HeavyAtomMolWt</th>\n",
       "      <th>ExactMolWt</th>\n",
       "      <th>NumValenceElectrons</th>\n",
       "      <th>NumRadicalElectrons</th>\n",
       "      <th>...</th>\n",
       "      <th>fr_sulfide</th>\n",
       "      <th>fr_sulfonamd</th>\n",
       "      <th>fr_sulfone</th>\n",
       "      <th>fr_term_acetylene</th>\n",
       "      <th>fr_tetrazole</th>\n",
       "      <th>fr_thiazole</th>\n",
       "      <th>fr_thiocyan</th>\n",
       "      <th>fr_thiophene</th>\n",
       "      <th>fr_unbrch_alkane</th>\n",
       "      <th>fr_urea</th>\n",
       "    </tr>\n",
       "  </thead>\n",
       "  <tbody>\n",
       "    <tr>\n",
       "      <th>4-(HEXYLOXY)-M-ANISALDEHYDE</th>\n",
       "      <td>10.621839</td>\n",
       "      <td>0.597392</td>\n",
       "      <td>10.621839</td>\n",
       "      <td>0.597392</td>\n",
       "      <td>0.511880</td>\n",
       "      <td>236.311</td>\n",
       "      <td>216.151</td>\n",
       "      <td>236.141244</td>\n",
       "      <td>94</td>\n",
       "      <td>0</td>\n",
       "      <td>...</td>\n",
       "      <td>0</td>\n",
       "      <td>0</td>\n",
       "      <td>0</td>\n",
       "      <td>0</td>\n",
       "      <td>0</td>\n",
       "      <td>0</td>\n",
       "      <td>0</td>\n",
       "      <td>0</td>\n",
       "      <td>3</td>\n",
       "      <td>0</td>\n",
       "    </tr>\n",
       "    <tr>\n",
       "      <th>5-BROMO-2-NITROVANILLIN</th>\n",
       "      <td>10.664142</td>\n",
       "      <td>-0.783009</td>\n",
       "      <td>10.664142</td>\n",
       "      <td>0.159306</td>\n",
       "      <td>0.516841</td>\n",
       "      <td>276.042</td>\n",
       "      <td>269.994</td>\n",
       "      <td>274.942934</td>\n",
       "      <td>80</td>\n",
       "      <td>0</td>\n",
       "      <td>...</td>\n",
       "      <td>0</td>\n",
       "      <td>0</td>\n",
       "      <td>0</td>\n",
       "      <td>0</td>\n",
       "      <td>0</td>\n",
       "      <td>0</td>\n",
       "      <td>0</td>\n",
       "      <td>0</td>\n",
       "      <td>0</td>\n",
       "      <td>0</td>\n",
       "    </tr>\n",
       "    <tr>\n",
       "      <th>DI-N-OCTYLISOPHTHALATE</th>\n",
       "      <td>12.165863</td>\n",
       "      <td>-0.375803</td>\n",
       "      <td>12.165863</td>\n",
       "      <td>0.375803</td>\n",
       "      <td>0.232089</td>\n",
       "      <td>390.564</td>\n",
       "      <td>352.260</td>\n",
       "      <td>390.277010</td>\n",
       "      <td>158</td>\n",
       "      <td>0</td>\n",
       "      <td>...</td>\n",
       "      <td>0</td>\n",
       "      <td>0</td>\n",
       "      <td>0</td>\n",
       "      <td>0</td>\n",
       "      <td>0</td>\n",
       "      <td>0</td>\n",
       "      <td>0</td>\n",
       "      <td>0</td>\n",
       "      <td>10</td>\n",
       "      <td>0</td>\n",
       "    </tr>\n",
       "    <tr>\n",
       "      <th>P-CHLOROPHENYL-O-NITROPHENYL ETHER</th>\n",
       "      <td>10.770527</td>\n",
       "      <td>-0.480901</td>\n",
       "      <td>10.770527</td>\n",
       "      <td>0.067176</td>\n",
       "      <td>0.609256</td>\n",
       "      <td>249.653</td>\n",
       "      <td>241.589</td>\n",
       "      <td>249.019271</td>\n",
       "      <td>86</td>\n",
       "      <td>0</td>\n",
       "      <td>...</td>\n",
       "      <td>0</td>\n",
       "      <td>0</td>\n",
       "      <td>0</td>\n",
       "      <td>0</td>\n",
       "      <td>0</td>\n",
       "      <td>0</td>\n",
       "      <td>0</td>\n",
       "      <td>0</td>\n",
       "      <td>0</td>\n",
       "      <td>0</td>\n",
       "    </tr>\n",
       "    <tr>\n",
       "      <th>3'-CHLORO-O-FORMOTOLUIDIDE</th>\n",
       "      <td>10.083590</td>\n",
       "      <td>0.637562</td>\n",
       "      <td>10.083590</td>\n",
       "      <td>0.637562</td>\n",
       "      <td>0.676245</td>\n",
       "      <td>169.611</td>\n",
       "      <td>161.547</td>\n",
       "      <td>169.029442</td>\n",
       "      <td>58</td>\n",
       "      <td>0</td>\n",
       "      <td>...</td>\n",
       "      <td>0</td>\n",
       "      <td>0</td>\n",
       "      <td>0</td>\n",
       "      <td>0</td>\n",
       "      <td>0</td>\n",
       "      <td>0</td>\n",
       "      <td>0</td>\n",
       "      <td>0</td>\n",
       "      <td>0</td>\n",
       "      <td>0</td>\n",
       "    </tr>\n",
       "  </tbody>\n",
       "</table>\n",
       "<p>5 rows × 200 columns</p>\n",
       "</div>"
      ],
      "text/plain": [
       "                                    MaxEStateIndex  MinEStateIndex  \\\n",
       "4-(HEXYLOXY)-M-ANISALDEHYDE              10.621839        0.597392   \n",
       "5-BROMO-2-NITROVANILLIN                  10.664142       -0.783009   \n",
       "DI-N-OCTYLISOPHTHALATE                   12.165863       -0.375803   \n",
       "P-CHLOROPHENYL-O-NITROPHENYL ETHER       10.770527       -0.480901   \n",
       "3'-CHLORO-O-FORMOTOLUIDIDE               10.083590        0.637562   \n",
       "\n",
       "                                    MaxAbsEStateIndex  MinAbsEStateIndex  \\\n",
       "4-(HEXYLOXY)-M-ANISALDEHYDE                 10.621839           0.597392   \n",
       "5-BROMO-2-NITROVANILLIN                     10.664142           0.159306   \n",
       "DI-N-OCTYLISOPHTHALATE                      12.165863           0.375803   \n",
       "P-CHLOROPHENYL-O-NITROPHENYL ETHER          10.770527           0.067176   \n",
       "3'-CHLORO-O-FORMOTOLUIDIDE                  10.083590           0.637562   \n",
       "\n",
       "                                         qed    MolWt  HeavyAtomMolWt  \\\n",
       "4-(HEXYLOXY)-M-ANISALDEHYDE         0.511880  236.311         216.151   \n",
       "5-BROMO-2-NITROVANILLIN             0.516841  276.042         269.994   \n",
       "DI-N-OCTYLISOPHTHALATE              0.232089  390.564         352.260   \n",
       "P-CHLOROPHENYL-O-NITROPHENYL ETHER  0.609256  249.653         241.589   \n",
       "3'-CHLORO-O-FORMOTOLUIDIDE          0.676245  169.611         161.547   \n",
       "\n",
       "                                    ExactMolWt  NumValenceElectrons  \\\n",
       "4-(HEXYLOXY)-M-ANISALDEHYDE         236.141244                   94   \n",
       "5-BROMO-2-NITROVANILLIN             274.942934                   80   \n",
       "DI-N-OCTYLISOPHTHALATE              390.277010                  158   \n",
       "P-CHLOROPHENYL-O-NITROPHENYL ETHER  249.019271                   86   \n",
       "3'-CHLORO-O-FORMOTOLUIDIDE          169.029442                   58   \n",
       "\n",
       "                                    NumRadicalElectrons   ...     fr_sulfide  \\\n",
       "4-(HEXYLOXY)-M-ANISALDEHYDE                           0   ...              0   \n",
       "5-BROMO-2-NITROVANILLIN                               0   ...              0   \n",
       "DI-N-OCTYLISOPHTHALATE                                0   ...              0   \n",
       "P-CHLOROPHENYL-O-NITROPHENYL ETHER                    0   ...              0   \n",
       "3'-CHLORO-O-FORMOTOLUIDIDE                            0   ...              0   \n",
       "\n",
       "                                    fr_sulfonamd  fr_sulfone  \\\n",
       "4-(HEXYLOXY)-M-ANISALDEHYDE                    0           0   \n",
       "5-BROMO-2-NITROVANILLIN                        0           0   \n",
       "DI-N-OCTYLISOPHTHALATE                         0           0   \n",
       "P-CHLOROPHENYL-O-NITROPHENYL ETHER             0           0   \n",
       "3'-CHLORO-O-FORMOTOLUIDIDE                     0           0   \n",
       "\n",
       "                                    fr_term_acetylene  fr_tetrazole  \\\n",
       "4-(HEXYLOXY)-M-ANISALDEHYDE                         0             0   \n",
       "5-BROMO-2-NITROVANILLIN                             0             0   \n",
       "DI-N-OCTYLISOPHTHALATE                              0             0   \n",
       "P-CHLOROPHENYL-O-NITROPHENYL ETHER                  0             0   \n",
       "3'-CHLORO-O-FORMOTOLUIDIDE                          0             0   \n",
       "\n",
       "                                    fr_thiazole  fr_thiocyan  fr_thiophene  \\\n",
       "4-(HEXYLOXY)-M-ANISALDEHYDE                   0            0             0   \n",
       "5-BROMO-2-NITROVANILLIN                       0            0             0   \n",
       "DI-N-OCTYLISOPHTHALATE                        0            0             0   \n",
       "P-CHLOROPHENYL-O-NITROPHENYL ETHER            0            0             0   \n",
       "3'-CHLORO-O-FORMOTOLUIDIDE                    0            0             0   \n",
       "\n",
       "                                    fr_unbrch_alkane  fr_urea  \n",
       "4-(HEXYLOXY)-M-ANISALDEHYDE                        3        0  \n",
       "5-BROMO-2-NITROVANILLIN                            0        0  \n",
       "DI-N-OCTYLISOPHTHALATE                            10        0  \n",
       "P-CHLOROPHENYL-O-NITROPHENYL ETHER                 0        0  \n",
       "3'-CHLORO-O-FORMOTOLUIDIDE                         0        0  \n",
       "\n",
       "[5 rows x 200 columns]"
      ]
     },
     "execution_count": 2,
     "metadata": {},
     "output_type": "execute_result"
    }
   ],
   "source": [
    "from rdkit.ML.Descriptors import MoleculeDescriptors\n",
    "from rdkit.Chem import Descriptors\n",
    "\n",
    "calc = MoleculeDescriptors.MolecularDescriptorCalculator([desc[0] for desc in Descriptors.descList])\n",
    "\n",
    "descriptors = pd.DataFrame([list(calc.CalcDescriptors(mol)) for mol in mols],\n",
    "                     columns=list(calc.GetDescriptorNames()), index=names)\n",
    "descriptors.head()"
   ]
  },
  {
   "cell_type": "markdown",
   "metadata": {},
   "source": [
    "As you can see, the molecular descriptors are a bit more complex than presence or absence of fragments.  They're real, continuous numbers.  One immediate problem we see is that they all exist in different scales.  One important preprocessing step for most ML algorithms.  scitkit-learn has a whole module dedicated to preprocessing data.  We'll import their function for scaling.  Which centers the mean to zero and gives unit varience. \n",
    "\n",
    "Before we do that, it's important to check that all the values are were created.  Sometimes, there are errors created descriptors for some molecules.  These are ususally stored as NaN values.  "
   ]
  },
  {
   "cell_type": "code",
   "execution_count": 3,
   "metadata": {},
   "outputs": [
    {
     "data": {
      "text/plain": [
       "12"
      ]
     },
     "execution_count": 3,
     "metadata": {},
     "output_type": "execute_result"
    }
   ],
   "source": [
    "descriptors.isnull().sum().sum()"
   ]
  },
  {
   "cell_type": "markdown",
   "metadata": {},
   "source": [
    "There are 12 such of these instances.  We can just remove those compounds, because they may interfere with our algorithms.  "
   ]
  },
  {
   "cell_type": "code",
   "execution_count": 4,
   "metadata": {},
   "outputs": [
    {
     "name": "stdout",
     "output_type": "stream",
     "text": [
      "There are 742 compounds remaining.\n"
     ]
    }
   ],
   "source": [
    "descriptors = descriptors[~descriptors.isnull().any(1)]\n",
    "\n",
    "print(\"There are {} compounds remaining.\".format(descriptors.shape[0]))"
   ]
  },
  {
   "cell_type": "code",
   "execution_count": 5,
   "metadata": {},
   "outputs": [
    {
     "data": {
      "text/html": [
       "<div>\n",
       "<style>\n",
       "    .dataframe thead tr:only-child th {\n",
       "        text-align: right;\n",
       "    }\n",
       "\n",
       "    .dataframe thead th {\n",
       "        text-align: left;\n",
       "    }\n",
       "\n",
       "    .dataframe tbody tr th {\n",
       "        vertical-align: top;\n",
       "    }\n",
       "</style>\n",
       "<table border=\"1\" class=\"dataframe\">\n",
       "  <thead>\n",
       "    <tr style=\"text-align: right;\">\n",
       "      <th></th>\n",
       "      <th>MaxEStateIndex</th>\n",
       "      <th>MinEStateIndex</th>\n",
       "      <th>MaxAbsEStateIndex</th>\n",
       "      <th>MinAbsEStateIndex</th>\n",
       "      <th>qed</th>\n",
       "      <th>MolWt</th>\n",
       "      <th>HeavyAtomMolWt</th>\n",
       "      <th>ExactMolWt</th>\n",
       "      <th>NumValenceElectrons</th>\n",
       "      <th>NumRadicalElectrons</th>\n",
       "      <th>...</th>\n",
       "      <th>fr_sulfide</th>\n",
       "      <th>fr_sulfonamd</th>\n",
       "      <th>fr_sulfone</th>\n",
       "      <th>fr_term_acetylene</th>\n",
       "      <th>fr_tetrazole</th>\n",
       "      <th>fr_thiazole</th>\n",
       "      <th>fr_thiocyan</th>\n",
       "      <th>fr_thiophene</th>\n",
       "      <th>fr_unbrch_alkane</th>\n",
       "      <th>fr_urea</th>\n",
       "    </tr>\n",
       "  </thead>\n",
       "  <tbody>\n",
       "    <tr>\n",
       "      <th>4-(HEXYLOXY)-M-ANISALDEHYDE</th>\n",
       "      <td>0.742904</td>\n",
       "      <td>0.603866</td>\n",
       "      <td>0.742904</td>\n",
       "      <td>0.334636</td>\n",
       "      <td>-0.192219</td>\n",
       "      <td>0.815411</td>\n",
       "      <td>0.722075</td>\n",
       "      <td>0.821289</td>\n",
       "      <td>1.246412</td>\n",
       "      <td>0.0</td>\n",
       "      <td>...</td>\n",
       "      <td>-0.144251</td>\n",
       "      <td>-0.036736</td>\n",
       "      <td>0.0</td>\n",
       "      <td>-0.131248</td>\n",
       "      <td>0.0</td>\n",
       "      <td>-0.036736</td>\n",
       "      <td>0.0</td>\n",
       "      <td>-0.036736</td>\n",
       "      <td>1.358004</td>\n",
       "      <td>-0.090289</td>\n",
       "    </tr>\n",
       "    <tr>\n",
       "      <th>5-BROMO-2-NITROVANILLIN</th>\n",
       "      <td>0.756835</td>\n",
       "      <td>-0.678992</td>\n",
       "      <td>0.756835</td>\n",
       "      <td>-0.675815</td>\n",
       "      <td>-0.149090</td>\n",
       "      <td>1.309985</td>\n",
       "      <td>1.409933</td>\n",
       "      <td>1.306120</td>\n",
       "      <td>0.720082</td>\n",
       "      <td>0.0</td>\n",
       "      <td>...</td>\n",
       "      <td>-0.144251</td>\n",
       "      <td>-0.036736</td>\n",
       "      <td>0.0</td>\n",
       "      <td>-0.131248</td>\n",
       "      <td>0.0</td>\n",
       "      <td>-0.036736</td>\n",
       "      <td>0.0</td>\n",
       "      <td>-0.036736</td>\n",
       "      <td>-0.354697</td>\n",
       "      <td>-0.090289</td>\n",
       "    </tr>\n",
       "    <tr>\n",
       "      <th>DI-N-OCTYLISOPHTHALATE</th>\n",
       "      <td>1.251371</td>\n",
       "      <td>-0.300561</td>\n",
       "      <td>1.251371</td>\n",
       "      <td>-0.176460</td>\n",
       "      <td>-2.624580</td>\n",
       "      <td>2.735562</td>\n",
       "      <td>2.460903</td>\n",
       "      <td>2.747231</td>\n",
       "      <td>3.652493</td>\n",
       "      <td>0.0</td>\n",
       "      <td>...</td>\n",
       "      <td>-0.144251</td>\n",
       "      <td>-0.036736</td>\n",
       "      <td>0.0</td>\n",
       "      <td>-0.131248</td>\n",
       "      <td>0.0</td>\n",
       "      <td>-0.036736</td>\n",
       "      <td>0.0</td>\n",
       "      <td>-0.036736</td>\n",
       "      <td>5.354305</td>\n",
       "      <td>-0.090289</td>\n",
       "    </tr>\n",
       "    <tr>\n",
       "      <th>P-CHLOROPHENYL-O-NITROPHENYL ETHER</th>\n",
       "      <td>0.791869</td>\n",
       "      <td>-0.398232</td>\n",
       "      <td>0.791869</td>\n",
       "      <td>-0.888313</td>\n",
       "      <td>0.654327</td>\n",
       "      <td>0.981493</td>\n",
       "      <td>1.047052</td>\n",
       "      <td>0.982201</td>\n",
       "      <td>0.945652</td>\n",
       "      <td>0.0</td>\n",
       "      <td>...</td>\n",
       "      <td>-0.144251</td>\n",
       "      <td>-0.036736</td>\n",
       "      <td>0.0</td>\n",
       "      <td>-0.131248</td>\n",
       "      <td>0.0</td>\n",
       "      <td>-0.036736</td>\n",
       "      <td>0.0</td>\n",
       "      <td>-0.036736</td>\n",
       "      <td>-0.354697</td>\n",
       "      <td>-0.090289</td>\n",
       "    </tr>\n",
       "    <tr>\n",
       "      <th>3'-CHLORO-O-FORMOTOLUIDIDE</th>\n",
       "      <td>0.565651</td>\n",
       "      <td>0.641198</td>\n",
       "      <td>0.565651</td>\n",
       "      <td>0.427288</td>\n",
       "      <td>1.236695</td>\n",
       "      <td>-0.014875</td>\n",
       "      <td>0.024495</td>\n",
       "      <td>-0.017280</td>\n",
       "      <td>-0.107009</td>\n",
       "      <td>0.0</td>\n",
       "      <td>...</td>\n",
       "      <td>-0.144251</td>\n",
       "      <td>-0.036736</td>\n",
       "      <td>0.0</td>\n",
       "      <td>-0.131248</td>\n",
       "      <td>0.0</td>\n",
       "      <td>-0.036736</td>\n",
       "      <td>0.0</td>\n",
       "      <td>-0.036736</td>\n",
       "      <td>-0.354697</td>\n",
       "      <td>-0.090289</td>\n",
       "    </tr>\n",
       "  </tbody>\n",
       "</table>\n",
       "<p>5 rows × 200 columns</p>\n",
       "</div>"
      ],
      "text/plain": [
       "                                    MaxEStateIndex  MinEStateIndex  \\\n",
       "4-(HEXYLOXY)-M-ANISALDEHYDE               0.742904        0.603866   \n",
       "5-BROMO-2-NITROVANILLIN                   0.756835       -0.678992   \n",
       "DI-N-OCTYLISOPHTHALATE                    1.251371       -0.300561   \n",
       "P-CHLOROPHENYL-O-NITROPHENYL ETHER        0.791869       -0.398232   \n",
       "3'-CHLORO-O-FORMOTOLUIDIDE                0.565651        0.641198   \n",
       "\n",
       "                                    MaxAbsEStateIndex  MinAbsEStateIndex  \\\n",
       "4-(HEXYLOXY)-M-ANISALDEHYDE                  0.742904           0.334636   \n",
       "5-BROMO-2-NITROVANILLIN                      0.756835          -0.675815   \n",
       "DI-N-OCTYLISOPHTHALATE                       1.251371          -0.176460   \n",
       "P-CHLOROPHENYL-O-NITROPHENYL ETHER           0.791869          -0.888313   \n",
       "3'-CHLORO-O-FORMOTOLUIDIDE                   0.565651           0.427288   \n",
       "\n",
       "                                         qed     MolWt  HeavyAtomMolWt  \\\n",
       "4-(HEXYLOXY)-M-ANISALDEHYDE        -0.192219  0.815411        0.722075   \n",
       "5-BROMO-2-NITROVANILLIN            -0.149090  1.309985        1.409933   \n",
       "DI-N-OCTYLISOPHTHALATE             -2.624580  2.735562        2.460903   \n",
       "P-CHLOROPHENYL-O-NITROPHENYL ETHER  0.654327  0.981493        1.047052   \n",
       "3'-CHLORO-O-FORMOTOLUIDIDE          1.236695 -0.014875        0.024495   \n",
       "\n",
       "                                    ExactMolWt  NumValenceElectrons  \\\n",
       "4-(HEXYLOXY)-M-ANISALDEHYDE           0.821289             1.246412   \n",
       "5-BROMO-2-NITROVANILLIN               1.306120             0.720082   \n",
       "DI-N-OCTYLISOPHTHALATE                2.747231             3.652493   \n",
       "P-CHLOROPHENYL-O-NITROPHENYL ETHER    0.982201             0.945652   \n",
       "3'-CHLORO-O-FORMOTOLUIDIDE           -0.017280            -0.107009   \n",
       "\n",
       "                                    NumRadicalElectrons    ...     fr_sulfide  \\\n",
       "4-(HEXYLOXY)-M-ANISALDEHYDE                         0.0    ...      -0.144251   \n",
       "5-BROMO-2-NITROVANILLIN                             0.0    ...      -0.144251   \n",
       "DI-N-OCTYLISOPHTHALATE                              0.0    ...      -0.144251   \n",
       "P-CHLOROPHENYL-O-NITROPHENYL ETHER                  0.0    ...      -0.144251   \n",
       "3'-CHLORO-O-FORMOTOLUIDIDE                          0.0    ...      -0.144251   \n",
       "\n",
       "                                    fr_sulfonamd  fr_sulfone  \\\n",
       "4-(HEXYLOXY)-M-ANISALDEHYDE            -0.036736         0.0   \n",
       "5-BROMO-2-NITROVANILLIN                -0.036736         0.0   \n",
       "DI-N-OCTYLISOPHTHALATE                 -0.036736         0.0   \n",
       "P-CHLOROPHENYL-O-NITROPHENYL ETHER     -0.036736         0.0   \n",
       "3'-CHLORO-O-FORMOTOLUIDIDE             -0.036736         0.0   \n",
       "\n",
       "                                    fr_term_acetylene  fr_tetrazole  \\\n",
       "4-(HEXYLOXY)-M-ANISALDEHYDE                 -0.131248           0.0   \n",
       "5-BROMO-2-NITROVANILLIN                     -0.131248           0.0   \n",
       "DI-N-OCTYLISOPHTHALATE                      -0.131248           0.0   \n",
       "P-CHLOROPHENYL-O-NITROPHENYL ETHER          -0.131248           0.0   \n",
       "3'-CHLORO-O-FORMOTOLUIDIDE                  -0.131248           0.0   \n",
       "\n",
       "                                    fr_thiazole  fr_thiocyan  fr_thiophene  \\\n",
       "4-(HEXYLOXY)-M-ANISALDEHYDE           -0.036736          0.0     -0.036736   \n",
       "5-BROMO-2-NITROVANILLIN               -0.036736          0.0     -0.036736   \n",
       "DI-N-OCTYLISOPHTHALATE                -0.036736          0.0     -0.036736   \n",
       "P-CHLOROPHENYL-O-NITROPHENYL ETHER    -0.036736          0.0     -0.036736   \n",
       "3'-CHLORO-O-FORMOTOLUIDIDE            -0.036736          0.0     -0.036736   \n",
       "\n",
       "                                    fr_unbrch_alkane   fr_urea  \n",
       "4-(HEXYLOXY)-M-ANISALDEHYDE                 1.358004 -0.090289  \n",
       "5-BROMO-2-NITROVANILLIN                    -0.354697 -0.090289  \n",
       "DI-N-OCTYLISOPHTHALATE                      5.354305 -0.090289  \n",
       "P-CHLOROPHENYL-O-NITROPHENYL ETHER         -0.354697 -0.090289  \n",
       "3'-CHLORO-O-FORMOTOLUIDIDE                 -0.354697 -0.090289  \n",
       "\n",
       "[5 rows x 200 columns]"
      ]
     },
     "execution_count": 5,
     "metadata": {},
     "output_type": "execute_result"
    }
   ],
   "source": [
    "from sklearn.preprocessing import scale\n",
    "\n",
    "descriptors = pd.DataFrame(scale(descriptors), index=descriptors.index, columns=descriptors.columns)\n",
    "\n",
    "descriptors.head()"
   ]
  },
  {
   "cell_type": "code",
   "execution_count": 6,
   "metadata": {
    "collapsed": true
   },
   "outputs": [],
   "source": [
    "% matplotlib inline"
   ]
  },
  {
   "cell_type": "markdown",
   "metadata": {},
   "source": [
    "Now that we have descriptors for everything in our dataset, things can start looking interesting when we relate it to activity.  Since we are looking at fathead minnow death, the activity is LC50.  Lets see how they are distributed.  It's common to look at the log transformed values."
   ]
  },
  {
   "cell_type": "markdown",
   "metadata": {},
   "source": [
    "Lets remove negative numbers....theyre just listed there as an alternative to NaNs. "
   ]
  },
  {
   "cell_type": "code",
   "execution_count": 7,
   "metadata": {
    "collapsed": true
   },
   "outputs": [],
   "source": [
    "lc50 = fhmds.LC50[fhmds.LC50 > 0]\n",
    "lc50 = lc50[lc50.index.isin(descriptors.index)]\n",
    "descriptors = descriptors.loc[lc50.index]"
   ]
  },
  {
   "cell_type": "code",
   "execution_count": 8,
   "metadata": {},
   "outputs": [
    {
     "data": {
      "text/plain": [
       "<matplotlib.axes._subplots.AxesSubplot at 0xcac2cc0>"
      ]
     },
     "execution_count": 8,
     "metadata": {},
     "output_type": "execute_result"
    },
    {
     "data": {
      "image/png": "[encoded data removed]",
      "text/plain": [
       "<matplotlib.figure.Figure at 0xcac20b8>"
      ]
     },
     "metadata": {},
     "output_type": "display_data"
    }
   ],
   "source": [
    "import math \n",
    "\n",
    "plc50 = lc50.apply(math.log10)\n",
    "\n",
    "plc50.hist()"
   ]
  },
  {
   "cell_type": "markdown",
   "metadata": {},
   "source": [
    "It seems that values are normally distributed, with most of the compounds around log10(lc50) == 1.  We will make our QSAR module a _classification_ model.  Meaning well just and predict, toxic or not toxic.  We can say everything less than 1 is toxic, and greater than 1, non-toxic.  From here on out well, call toxic == 1, and non-toxic 0."
   ]
  },
  {
   "cell_type": "code",
   "execution_count": 9,
   "metadata": {},
   "outputs": [
    {
     "name": "stdout",
     "output_type": "stream",
     "text": [
      "There are 276 toxic molecules and 429 non-toxic molecules using this classification\n"
     ]
    }
   ],
   "source": [
    "classes = plc50.copy()\n",
    "classes[plc50 < 1] = 1\n",
    "classes[plc50 >= 1] = 0\n",
    "\n",
    "print(\"There are {} toxic molecules and {} non-toxic molecules using this classification\".format((classes == 1).sum(), \n",
    "                                                                                                 (classes == 0).sum()))"
   ]
  },
  {
   "cell_type": "code",
   "execution_count": 10,
   "metadata": {},
   "outputs": [
    {
     "data": {
      "text/plain": [
       "(705,)"
      ]
     },
     "execution_count": 10,
     "metadata": {},
     "output_type": "execute_result"
    }
   ],
   "source": [
    "classes.shape"
   ]
  },
  {
   "cell_type": "markdown",
   "metadata": {},
   "source": [
    "Let's see the the differences in the means for the molecular descriptors between toxic and non-toxic compounds."
   ]
  },
  {
   "cell_type": "code",
   "execution_count": 12,
   "metadata": {},
   "outputs": [
    {
     "data": {
      "text/plain": [
       "<matplotlib.legend.Legend at 0xccfe9b0>"
      ]
     },
     "execution_count": 12,
     "metadata": {},
     "output_type": "execute_result"
    },
    {
     "data": {
      "image/png": "[encoded data removed]",
      "text/plain": [
       "<matplotlib.figure.Figure at 0xcc22d30>"
      ]
     },
     "metadata": {},
     "output_type": "display_data"
    }
   ],
   "source": [
    "import numpy as np\n",
    "import matplotlib.pyplot as plt\n",
    "\n",
    "xs = np.arange(0, descriptors.shape[1]*2, 2)\n",
    "\n",
    "plt.bar(xs, descriptors[classes == 1].mean(), color='red', label='Toxic')\n",
    "plt.bar(xs+1, descriptors[classes == 0].mean(), color='green', label='Non-Toxic')\n",
    "plt.legend()"
   ]
  },
  {
   "cell_type": "markdown",
   "metadata": {},
   "source": [
    "Definitely looks like there's some differneces in the features between active and inactive.  Let's prepare the data for QSAR.  Generally, the way to 'train' the model is using [5-fold cross validation](https://en.wikipedia.org/wiki/Cross-validation_(statistics).  Then we predict using a set of compounds we reserved.  Scikit-learn still has functions for both these.  We'll reserve 20% of the compounds for a test set."
   ]
  },
  {
   "cell_type": "code",
   "execution_count": 13,
   "metadata": {
    "collapsed": true
   },
   "outputs": [],
   "source": [
    "from sklearn.model_selection import train_test_split\n",
    "\n",
    "X_train, X_test, y_train, y_test = train_test_split(descriptors, classes, test_size=0.2, random_state=0)"
   ]
  },
  {
   "cell_type": "markdown",
   "metadata": {},
   "source": [
    "Let's prepare a few algorithms.  "
   ]
  },
  {
   "cell_type": "code",
   "execution_count": 14,
   "metadata": {
    "collapsed": true
   },
   "outputs": [],
   "source": [
    "from sklearn.ensemble import RandomForestClassifier\n",
    "from sklearn.svm import SVC\n",
    "from sklearn.linear_model import LogisticRegression\n",
    "\n",
    "models = {'RF': RandomForestClassifier(), 'SVC': SVC(), 'LR':LogisticRegression()}\n",
    "\n"
   ]
  },
  {
   "cell_type": "markdown",
   "metadata": {},
   "source": [
    "First, let's see how the models perform predicting chemicals in the training set.  That is, how they perform using 5-fold cross validation.  "
   ]
  },
  {
   "cell_type": "code",
   "execution_count": 15,
   "metadata": {},
   "outputs": [
    {
     "name": "stdout",
     "output_type": "stream",
     "text": [
      "Accuracy score on training set for RF: 0.8262908377137533\n",
      "Accuracy score on training set for SVC: 0.805018630647415\n",
      "Accuracy score on training set for LR: 0.838773648723579\n"
     ]
    }
   ],
   "source": [
    "from sklearn.model_selection import cross_val_score\n",
    "\n",
    "for name, mdl in models.items():\n",
    "    scores = cross_val_score(mdl, \n",
    "                             X_train, \n",
    "                             y_train, \n",
    "                             cv=5, scoring='accuracy')\n",
    "    print('Accuracy score on training set for {}: {}'.format(name, scores.mean()))"
   ]
  },
  {
   "cell_type": "markdown",
   "metadata": {},
   "source": [
    "The scores aren't too bad.  For each algorithm, the prediction is right between 80-84% of the time.  However, a common phenomenon in Machine Learning is the idea of 'over-fitting' or 'over-training' a model.  Given enough training time and parameter adjustment, a model is going to be able to 'learn' the data it's being trained on.  More accurately, it can be thought of 'memorizing' the training data.  This is precisely the reason we reserve a test set for and external validation.  That is, compounds that the model has never seen before.  "
   ]
  },
  {
   "cell_type": "code",
   "execution_count": 16,
   "metadata": {},
   "outputs": [
    {
     "name": "stdout",
     "output_type": "stream",
     "text": [
      "Accuracy score on test set for RF: 0.7730496453900709\n",
      "Accuracy score on test set for SVC: 0.7588652482269503\n",
      "Accuracy score on test set for LR: 0.7872340425531915\n"
     ]
    }
   ],
   "source": [
    "from sklearn.metrics import accuracy_score\n",
    "\n",
    "for name, mdl in models.items():\n",
    "    mdl.fit(X_train, y_train)\n",
    "    predictions = mdl.predict(X_test)\n",
    "    print('Accuracy score on test set for {}: {}'.format(name, accuracy_score(y_test, predictions)))"
   ]
  },
  {
   "cell_type": "markdown",
   "metadata": {
    "collapsed": true
   },
   "source": [
    "We see a marked decrease in the model performance: about 5%.  Still however, the models are pretty accurate, predicting toxic or non-toxic compounds at an accuracy of ~75-79%."
   ]
  }
 ],
 "metadata": {
  "kernelspec": {
   "display_name": "Python 3",
   "language": "python",
   "name": "python3"
  },
  "language_info": {
   "codemirror_mode": {
    "name": "ipython",
    "version": 3
   },
   "file_extension": ".py",
   "mimetype": "text/x-python",
   "name": "python",
   "nbconvert_exporter": "python",
   "pygments_lexer": "ipython3",
   "version": "3.6.2"
  }
 },
 "nbformat": 4,
 "nbformat_minor": 2
}
